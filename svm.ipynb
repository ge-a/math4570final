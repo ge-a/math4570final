{
 "cells": [
  {
   "cell_type": "code",
   "execution_count": 1,
   "metadata": {},
   "outputs": [],
   "source": [
    "import pandas as pd\n",
    "import numpy as np\n",
    "from sklearn.ensemble import RandomForestClassifier\n",
    "from sklearn.model_selection import StratifiedKFold\n",
    "from sklearn.model_selection import GridSearchCV\n",
    "from sklearn.linear_model import LogisticRegression\n",
    "from sklearn.preprocessing import StandardScaler\n",
    "from sklearn.neural_network import MLPClassifier\n",
    "from sklearn.metrics import auc, accuracy_score, roc_curve, precision_score, recall_score, f1_score\n",
    "from sklearn.svm import SVC\n",
    "from sklearn.decomposition import PCA\n",
    "from sklearn.model_selection import train_test_split\n",
    "import matplotlib.pyplot as plt\n",
    "import os"
   ]
  },
  {
   "cell_type": "code",
   "execution_count": 2,
   "metadata": {},
   "outputs": [],
   "source": [
    "# List of all the lineages we will be making dataframes for - some of the DFs don't have a col named depmapid but have depmapids, will require some cleaning\n",
    "lineages = [\"kidney\", \"breast\", \"blood\", \"liver\", \"urinary_tract\", \"colorectal\", \"ovary\", \"pancreas\"]\n",
    "lineage_df_dict = {}"
   ]
  },
  {
   "cell_type": "code",
   "execution_count": 3,
   "metadata": {},
   "outputs": [],
   "source": [
    "# List of all the feature dataframes we are going to read into the lineage dataframes\n",
    "features = [\"effect\", \"dependency\", \"expression\", \"gene_cn\"]\n",
    "feature_df_dict = {}"
   ]
  },
  {
   "cell_type": "code",
   "execution_count": 4,
   "metadata": {},
   "outputs": [],
   "source": [
    "sample_info_df = pd.read_csv('data/sample_info.csv')"
   ]
  },
  {
   "cell_type": "code",
   "execution_count": 5,
   "metadata": {},
   "outputs": [],
   "source": [
    "folder_path = \"data/\"\n",
    "\n",
    "for file_name in os.listdir(folder_path):\n",
    "    for feature in features:\n",
    "        if file_name.endswith('.csv') and feature in file_name:\n",
    "            file_path = os.path.join(folder_path, file_name)\n",
    "            feature_df_dict[feature] = pd.read_csv(file_path)\n",
    "            feature_df_dict[feature].columns = [column.split(' ')[0] for column in feature_df_dict[feature].columns]\n",
    "            feature_df_dict[feature].rename(columns={feature_df_dict[feature].columns[0]: \"DepMap_ID\"}, inplace=True)\n",
    "            feature_df_dict[feature] = pd.merge(feature_df_dict[feature], sample_info_df[['DepMap_ID', 'lineage']], on='DepMap_ID', how='left')\n",
    "            feature_df_dict[feature].drop(\"DepMap_ID\", axis=1, inplace=True)\n",
    "            feature_df_dict[feature] = feature_df_dict[feature].pivot_table(index='lineage', aggfunc='mean')"
   ]
  },
  {
   "cell_type": "code",
   "execution_count": 6,
   "metadata": {},
   "outputs": [],
   "source": [
    "for feature in features:\n",
    "    for lineage in lineages:\n",
    "        temp_df = feature_df_dict[feature].loc[feature_df_dict[feature].index == lineage].transpose()\n",
    "        temp_df.index.name = 'gene'\n",
    "        if lineage in lineage_df_dict:\n",
    "            temp_df.rename(columns={lineage : feature}, inplace=True)\n",
    "            lineage_df_dict[lineage] = pd.merge(lineage_df_dict[lineage], temp_df, on=\"gene\", how=\"outer\").dropna()\n",
    "        else:\n",
    "            lineage_df_dict[lineage] = pd.DataFrame({feature: temp_df[lineage]}, index=temp_df.index)\n",
    "            lineage_df_dict[lineage].index.name = 'gene'\n",
    "            lineage_df_dict[lineage].reset_index(inplace=True)"
   ]
  },
  {
   "cell_type": "code",
   "execution_count": 7,
   "metadata": {},
   "outputs": [],
   "source": [
    "training_dfs = {}\n",
    "training_lineages = {\"kidney\" : \"kidney\", \n",
    "                     \"breast\" : \"breast\", \n",
    "                     \"leukemia\" : \"blood\", \n",
    "                     \"liver\" : \"liver\", \n",
    "                     \"bladder\" : \"urinary_tract\",\n",
    "                     \"colon\" : \"colorectal\", \n",
    "                     \"ovarian\" : \"ovary\", \n",
    "                     \"pancreatic\" : \"pancreas\"}\n",
    "for k, v in training_lineages.items():\n",
    "    df = pd.read_csv(f\"training_sets_genes/{k}_training_genes_set.csv\")\n",
    "    df = df.merge(lineage_df_dict[v], on=\"gene\", how='left').fillna(0)\n",
    "    lineage_df_dict[v] = pd.merge(lineage_df_dict[v], df, indicator=True, how='left', on=list(lineage_df_dict[v].columns)).query('_merge == \"left_only\"').drop('_merge', axis=1)\n",
    "    lineage_df_dict[v].drop(columns=['label'], inplace=True)\n",
    "    df.set_index('gene', inplace=True)\n",
    "    lineage_df_dict[v].set_index('gene', inplace=True)\n",
    "    training_dfs[k] = df"
   ]
  },
  {
   "cell_type": "code",
   "execution_count": 8,
   "metadata": {},
   "outputs": [],
   "source": [
    "rev_training_lineages = {value: key for key, value in training_lineages.items()}"
   ]
  },
  {
   "cell_type": "markdown",
   "metadata": {},
   "source": [
    "## Support Vector Machine (SVM)"
   ]
  },
  {
   "cell_type": "code",
   "execution_count": 9,
   "metadata": {},
   "outputs": [],
   "source": [
    "svm_by_lineage = {}\n",
    "\n",
    "param_grid = [{'kernel':['rbf'], 'gamma': [1e-3, 1e-4], 'C': [1, 10, 100]},\n",
    "                      {'kernel':['linear'], 'C': [1, 10, 100]} ]\n",
    "\n",
    "svm = SVC(probability=True)\n",
    "cv = StratifiedKFold(n_splits=5, shuffle=True)\n",
    "\n",
    "# Run on train data\n",
    "for k, v in training_dfs.items():\n",
    "    X = training_dfs[k].drop(columns=['label'])\n",
    "    y= training_dfs[k]['label']\n",
    "\n",
    "    X_train, X_test, y_train, y_test = train_test_split(X, y, test_size=0.2, random_state=42)\n",
    "\n",
    "    grid_search_cv = GridSearchCV(estimator=svm, param_grid=param_grid, cv=cv)\n",
    "\n",
    "    model = grid_search_cv.fit(X_train, y_train)\n",
    "\n",
    "    y_pred = model.best_estimator_.predict(X_test)\n",
    "    y_pred_rt = model.best_estimator_.predict_proba(X_test)[:, 1]\n",
    "\n",
    "    accuracy = str(accuracy_score(y_test, y_pred))\n",
    "\n",
    "    svm_by_lineage[k] = (accuracy, y_pred, y_pred_rt, model.best_estimator_)"
   ]
  },
  {
   "cell_type": "code",
   "execution_count": 10,
   "metadata": {},
   "outputs": [],
   "source": [
    "# Predict on Unlabelled Data\n",
    "svm_pred_labels = {}\n",
    "svm_predictions = {}\n",
    "for k, v in lineage_df_dict.items():\n",
    "    rev_k = rev_training_lineages[k]\n",
    "    best_svm = svm_by_lineage[rev_k][-1]\n",
    "    svm_pred_labels[rev_k] = best_svm.predict(lineage_df_dict[k])\n",
    "    svm_predictions[k] = pd.DataFrame({'gene': v.index, 'prediction': svm_pred_labels[rev_k]})"
   ]
  },
  {
   "cell_type": "code",
   "execution_count": 11,
   "metadata": {},
   "outputs": [
    {
     "name": "stdout",
     "output_type": "stream",
     "text": [
      "kidney : 0\n",
      "breast : 0\n",
      "blood : 0\n",
      "liver : 0\n",
      "urinary_tract : 0\n",
      "colorectal : 0\n",
      "ovary : 0\n",
      "pancreas : 0\n"
     ]
    }
   ],
   "source": [
    "pos_count = 0\n",
    "\n",
    "for key in rev_training_lineages:\n",
    "    for prediction in svm_predictions[key][\"prediction\"]:\n",
    "        if prediction == \"positive\":\n",
    "            pos_count += 1\n",
    "\n",
    "    print(f\"{key} : {pos_count}\")"
   ]
  }
 ],
 "metadata": {
  "kernelspec": {
   "display_name": "Python 3",
   "language": "python",
   "name": "python3"
  },
  "language_info": {
   "codemirror_mode": {
    "name": "ipython",
    "version": 3
   },
   "file_extension": ".py",
   "mimetype": "text/x-python",
   "name": "python",
   "nbconvert_exporter": "python",
   "pygments_lexer": "ipython3",
   "version": "3.11.9"
  }
 },
 "nbformat": 4,
 "nbformat_minor": 2
}
