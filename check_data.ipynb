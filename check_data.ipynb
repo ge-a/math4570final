{
 "cells": [
  {
   "cell_type": "code",
   "execution_count": 1,
   "metadata": {},
   "outputs": [],
   "source": [
    "import pandas as pd\n",
    "import numpy as np\n",
    "from sklearn.ensemble import RandomForestClassifier\n",
    "from sklearn import svm\n",
    "from sklearn.decomposition import PCA\n",
    "from sklearn.model_selection import train_test_split\n",
    "import os"
   ]
  },
  {
   "cell_type": "code",
   "execution_count": 2,
   "metadata": {},
   "outputs": [],
   "source": [
    "# List of all the lineages we will be making dataframes for - some of the DFs don't have a col named depmapid but have depmapids, will require some cleaning\n",
    "lineages = [\"kidney\"] #, \"breast\", \"leukemia\"]\n",
    "lineage_df_dict = {}"
   ]
  },
  {
   "cell_type": "code",
   "execution_count": 3,
   "metadata": {},
   "outputs": [],
   "source": [
    "# List of all the feature dataframes we are going to read into the lineage dataframes\n",
    "features = [\"effect\", \"dependency\"]\n",
    "feature_df_dict = {}"
   ]
  },
  {
   "cell_type": "code",
   "execution_count": 4,
   "metadata": {},
   "outputs": [],
   "source": [
    "sample_info_df = pd.read_csv('data/sample_info.csv')"
   ]
  },
  {
   "cell_type": "code",
   "execution_count": 5,
   "metadata": {},
   "outputs": [
    {
     "name": "stderr",
     "output_type": "stream",
     "text": [
      "/var/folders/jb/9z0m4pz10tx508lhvg8n7r_40000gp/T/ipykernel_14682/843644931.py:9: FutureWarning: pivot_table dropped a column because it failed to aggregate. This behavior is deprecated and will raise in a future version of pandas. Select only the columns that can be aggregated.\n",
      "  feature_df_dict[feature] = feature_df_dict[feature].pivot_table(index='lineage', aggfunc='mean')\n",
      "/var/folders/jb/9z0m4pz10tx508lhvg8n7r_40000gp/T/ipykernel_14682/843644931.py:9: FutureWarning: pivot_table dropped a column because it failed to aggregate. This behavior is deprecated and will raise in a future version of pandas. Select only the columns that can be aggregated.\n",
      "  feature_df_dict[feature] = feature_df_dict[feature].pivot_table(index='lineage', aggfunc='mean')\n"
     ]
    }
   ],
   "source": [
    "folder_path = \"data/\"\n",
    "\n",
    "for file_name in os.listdir(folder_path):\n",
    "    for feature in features:\n",
    "        if file_name.endswith('.csv') and feature in file_name:\n",
    "            file_path = os.path.join(folder_path, file_name)\n",
    "            feature_df_dict[feature] = pd.read_csv(file_path)\n",
    "            feature_df_dict[feature] = pd.merge(feature_df_dict[feature], sample_info_df[['DepMap_ID', 'lineage']], on='DepMap_ID', how='left')\n",
    "            feature_df_dict[feature] = feature_df_dict[feature].pivot_table(index='lineage', aggfunc='mean')"
   ]
  },
  {
   "cell_type": "code",
   "execution_count": 6,
   "metadata": {},
   "outputs": [
    {
     "data": {
      "text/html": [
       "<div>\n",
       "<style scoped>\n",
       "    .dataframe tbody tr th:only-of-type {\n",
       "        vertical-align: middle;\n",
       "    }\n",
       "\n",
       "    .dataframe tbody tr th {\n",
       "        vertical-align: top;\n",
       "    }\n",
       "\n",
       "    .dataframe thead th {\n",
       "        text-align: right;\n",
       "    }\n",
       "</style>\n",
       "<table border=\"1\" class=\"dataframe\">\n",
       "  <thead>\n",
       "    <tr style=\"text-align: right;\">\n",
       "      <th></th>\n",
       "      <th>Gene</th>\n",
       "      <th>effect</th>\n",
       "      <th>kidney</th>\n",
       "    </tr>\n",
       "  </thead>\n",
       "  <tbody>\n",
       "    <tr>\n",
       "      <th>0</th>\n",
       "      <td>A1BG (1)</td>\n",
       "      <td>-0.042959</td>\n",
       "      <td>0.079374</td>\n",
       "    </tr>\n",
       "    <tr>\n",
       "      <th>1</th>\n",
       "      <td>A1CF (29974)</td>\n",
       "      <td>-0.037359</td>\n",
       "      <td>0.057407</td>\n",
       "    </tr>\n",
       "    <tr>\n",
       "      <th>2</th>\n",
       "      <td>A2M (2)</td>\n",
       "      <td>-0.012457</td>\n",
       "      <td>0.042906</td>\n",
       "    </tr>\n",
       "    <tr>\n",
       "      <th>3</th>\n",
       "      <td>A2ML1 (144568)</td>\n",
       "      <td>0.022567</td>\n",
       "      <td>0.029934</td>\n",
       "    </tr>\n",
       "    <tr>\n",
       "      <th>4</th>\n",
       "      <td>A3GALT2 (127550)</td>\n",
       "      <td>-0.125506</td>\n",
       "      <td>0.104598</td>\n",
       "    </tr>\n",
       "    <tr>\n",
       "      <th>...</th>\n",
       "      <td>...</td>\n",
       "      <td>...</td>\n",
       "      <td>...</td>\n",
       "    </tr>\n",
       "    <tr>\n",
       "      <th>17381</th>\n",
       "      <td>ZYG11A (440590)</td>\n",
       "      <td>-0.085300</td>\n",
       "      <td>0.075678</td>\n",
       "    </tr>\n",
       "    <tr>\n",
       "      <th>17382</th>\n",
       "      <td>ZYG11B (79699)</td>\n",
       "      <td>-0.139812</td>\n",
       "      <td>0.120721</td>\n",
       "    </tr>\n",
       "    <tr>\n",
       "      <th>17383</th>\n",
       "      <td>ZYX (7791)</td>\n",
       "      <td>-0.103182</td>\n",
       "      <td>0.109837</td>\n",
       "    </tr>\n",
       "    <tr>\n",
       "      <th>17384</th>\n",
       "      <td>ZZEF1 (23140)</td>\n",
       "      <td>-0.057489</td>\n",
       "      <td>0.071305</td>\n",
       "    </tr>\n",
       "    <tr>\n",
       "      <th>17385</th>\n",
       "      <td>ZZZ3 (26009)</td>\n",
       "      <td>-0.220398</td>\n",
       "      <td>0.204899</td>\n",
       "    </tr>\n",
       "  </tbody>\n",
       "</table>\n",
       "<p>17386 rows × 3 columns</p>\n",
       "</div>"
      ],
      "text/plain": [
       "                   Gene    effect    kidney\n",
       "0              A1BG (1) -0.042959  0.079374\n",
       "1          A1CF (29974) -0.037359  0.057407\n",
       "2               A2M (2) -0.012457  0.042906\n",
       "3        A2ML1 (144568)  0.022567  0.029934\n",
       "4      A3GALT2 (127550) -0.125506  0.104598\n",
       "...                 ...       ...       ...\n",
       "17381   ZYG11A (440590) -0.085300  0.075678\n",
       "17382    ZYG11B (79699) -0.139812  0.120721\n",
       "17383        ZYX (7791) -0.103182  0.109837\n",
       "17384     ZZEF1 (23140) -0.057489  0.071305\n",
       "17385      ZZZ3 (26009) -0.220398  0.204899\n",
       "\n",
       "[17386 rows x 3 columns]"
      ]
     },
     "execution_count": 6,
     "metadata": {},
     "output_type": "execute_result"
    }
   ],
   "source": [
    "for feature in features:\n",
    "    for lineage in lineages:\n",
    "        temp_df = feature_df_dict[feature].loc[feature_df_dict[feature].index == lineage].transpose()\n",
    "        temp_df.index.name = 'Gene'\n",
    "\n",
    "        if lineage in lineage_df_dict:\n",
    "            lineage_df_dict[lineage] = pd.merge(lineage_df_dict[lineage], temp_df, on=\"Gene\", how=\"outer\").fillna(0)\n",
    "        else:\n",
    "            lineage_df_dict[lineage] = pd.DataFrame({feature: temp_df[lineage]}, index=temp_df.index)\n",
    "            lineage_df_dict[lineage].index.name = 'Gene'\n",
    "            lineage_df_dict[lineage].reset_index(inplace=True)\n",
    "\n",
    "# Test to see what the kidney lineage dataframe looks like\n",
    "lineage_df_dict['kidney']"
   ]
  },
  {
   "cell_type": "markdown",
   "metadata": {},
   "source": [
    "## Principal Component Analysis (PCA)"
   ]
  },
  {
   "cell_type": "code",
   "execution_count": null,
   "metadata": {},
   "outputs": [],
   "source": []
  },
  {
   "cell_type": "markdown",
   "metadata": {},
   "source": [
    "## Random Forest"
   ]
  },
  {
   "cell_type": "code",
   "execution_count": null,
   "metadata": {},
   "outputs": [],
   "source": []
  },
  {
   "cell_type": "markdown",
   "metadata": {},
   "source": [
    "## Neural Network"
   ]
  },
  {
   "cell_type": "code",
   "execution_count": null,
   "metadata": {},
   "outputs": [],
   "source": []
  },
  {
   "cell_type": "markdown",
   "metadata": {},
   "source": [
    "## Support Vector Machine (SVM)"
   ]
  },
  {
   "cell_type": "code",
   "execution_count": null,
   "metadata": {},
   "outputs": [],
   "source": []
  },
  {
   "cell_type": "markdown",
   "metadata": {},
   "source": [
    "## Logistic Regression"
   ]
  },
  {
   "cell_type": "code",
   "execution_count": null,
   "metadata": {},
   "outputs": [],
   "source": []
  }
 ],
 "metadata": {
  "kernelspec": {
   "display_name": "Python 3",
   "language": "python",
   "name": "python3"
  },
  "language_info": {
   "codemirror_mode": {
    "name": "ipython",
    "version": 3
   },
   "file_extension": ".py",
   "mimetype": "text/x-python",
   "name": "python",
   "nbconvert_exporter": "python",
   "pygments_lexer": "ipython3",
   "version": "3.11.9"
  }
 },
 "nbformat": 4,
 "nbformat_minor": 2
}
