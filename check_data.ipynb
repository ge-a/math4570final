{
 "cells": [
  {
   "cell_type": "code",
   "execution_count": 1,
   "metadata": {},
   "outputs": [],
   "source": [
    "import pandas as pd\n",
    "import numpy as np\n",
    "from sklearn.ensemble import RandomForestClassifier\n",
    "from sklearn import svm\n",
    "from sklearn.decomposition import PCA\n",
    "from sklearn.model_selection import train_test_split\n",
    "import os"
   ]
  },
  {
   "cell_type": "code",
   "execution_count": 2,
   "metadata": {},
   "outputs": [],
   "source": [
    "# List of all the lineages we will be making dataframes for - some of the DFs don't have a col named depmapid but have depmapids, will require some cleaning\n",
    "lineages = [\"kidney\", \"breast\", \"blood\", \"liver\", \"urinary_tract\", \"colorectal\", \"ovary\", \"pancreas\"]\n",
    "lineage_df_dict = {}"
   ]
  },
  {
   "cell_type": "code",
   "execution_count": 3,
   "metadata": {},
   "outputs": [],
   "source": [
    "# List of all the feature dataframes we are going to read into the lineage dataframes\n",
    "features = [\"effect\", \"dependency\", \"expression\", \"gene_cn\"]\n",
    "feature_df_dict = {}"
   ]
  },
  {
   "cell_type": "code",
   "execution_count": 4,
   "metadata": {},
   "outputs": [],
   "source": [
    "sample_info_df = pd.read_csv('data/sample_info.csv')"
   ]
  },
  {
   "cell_type": "code",
   "execution_count": 5,
   "metadata": {},
   "outputs": [],
   "source": [
    "folder_path = \"data/\"\n",
    "\n",
    "for file_name in os.listdir(folder_path):\n",
    "    for feature in features:\n",
    "        if file_name.endswith('.csv') and feature in file_name:\n",
    "            file_path = os.path.join(folder_path, file_name)\n",
    "            feature_df_dict[feature] = pd.read_csv(file_path)\n",
    "            feature_df_dict[feature].columns = [column.split(' ')[0] for column in feature_df_dict[feature].columns]\n",
    "            feature_df_dict[feature].rename(columns={feature_df_dict[feature].columns[0]: \"DepMap_ID\"}, inplace=True)\n",
    "            feature_df_dict[feature] = pd.merge(feature_df_dict[feature], sample_info_df[['DepMap_ID', 'lineage']], on='DepMap_ID', how='left')\n",
    "            feature_df_dict[feature].drop(\"DepMap_ID\", axis=1, inplace=True)\n",
    "            feature_df_dict[feature] = feature_df_dict[feature].pivot_table(index='lineage', aggfunc='mean')"
   ]
  },
  {
   "cell_type": "code",
   "execution_count": 6,
   "metadata": {},
   "outputs": [],
   "source": [
    "for feature in features:\n",
    "    for lineage in lineages:\n",
    "        temp_df = feature_df_dict[feature].loc[feature_df_dict[feature].index == lineage].transpose()\n",
    "        temp_df.index.name = 'gene'\n",
    "        if lineage in lineage_df_dict:\n",
    "            temp_df.rename(columns={lineage : feature}, inplace=True)\n",
    "            lineage_df_dict[lineage] = pd.merge(lineage_df_dict[lineage], temp_df, on=\"gene\", how=\"outer\").dropna()\n",
    "        else:\n",
    "            lineage_df_dict[lineage] = pd.DataFrame({feature: temp_df[lineage]}, index=temp_df.index)\n",
    "            lineage_df_dict[lineage].index.name = 'gene'\n",
    "            lineage_df_dict[lineage].reset_index(inplace=True)"
   ]
  },
  {
   "cell_type": "code",
   "execution_count": 7,
   "metadata": {},
   "outputs": [
    {
     "data": {
      "text/html": [
       "<div>\n",
       "<style scoped>\n",
       "    .dataframe tbody tr th:only-of-type {\n",
       "        vertical-align: middle;\n",
       "    }\n",
       "\n",
       "    .dataframe tbody tr th {\n",
       "        vertical-align: top;\n",
       "    }\n",
       "\n",
       "    .dataframe thead th {\n",
       "        text-align: right;\n",
       "    }\n",
       "</style>\n",
       "<table border=\"1\" class=\"dataframe\">\n",
       "  <thead>\n",
       "    <tr style=\"text-align: right;\">\n",
       "      <th></th>\n",
       "      <th>gene</th>\n",
       "      <th>effect</th>\n",
       "      <th>dependency</th>\n",
       "      <th>expression</th>\n",
       "      <th>gene_cn</th>\n",
       "    </tr>\n",
       "  </thead>\n",
       "  <tbody>\n",
       "    <tr>\n",
       "      <th>0</th>\n",
       "      <td>A1BG</td>\n",
       "      <td>-0.015041</td>\n",
       "      <td>0.043599</td>\n",
       "      <td>0.590738</td>\n",
       "      <td>1.002046</td>\n",
       "    </tr>\n",
       "    <tr>\n",
       "      <th>1</th>\n",
       "      <td>A1CF</td>\n",
       "      <td>-0.068805</td>\n",
       "      <td>0.083945</td>\n",
       "      <td>1.262503</td>\n",
       "      <td>1.031954</td>\n",
       "    </tr>\n",
       "    <tr>\n",
       "      <th>2</th>\n",
       "      <td>A2M</td>\n",
       "      <td>0.001877</td>\n",
       "      <td>0.035082</td>\n",
       "      <td>0.285868</td>\n",
       "      <td>1.075952</td>\n",
       "    </tr>\n",
       "    <tr>\n",
       "      <th>3</th>\n",
       "      <td>A2ML1</td>\n",
       "      <td>0.034582</td>\n",
       "      <td>0.030788</td>\n",
       "      <td>0.309722</td>\n",
       "      <td>1.075789</td>\n",
       "    </tr>\n",
       "    <tr>\n",
       "      <th>4</th>\n",
       "      <td>A3GALT2</td>\n",
       "      <td>-0.046617</td>\n",
       "      <td>0.062978</td>\n",
       "      <td>0.009425</td>\n",
       "      <td>0.912126</td>\n",
       "    </tr>\n",
       "    <tr>\n",
       "      <th>...</th>\n",
       "      <td>...</td>\n",
       "      <td>...</td>\n",
       "      <td>...</td>\n",
       "      <td>...</td>\n",
       "      <td>...</td>\n",
       "    </tr>\n",
       "    <tr>\n",
       "      <th>17280</th>\n",
       "      <td>ZYG11A</td>\n",
       "      <td>-0.020647</td>\n",
       "      <td>0.046334</td>\n",
       "      <td>0.178135</td>\n",
       "      <td>0.920793</td>\n",
       "    </tr>\n",
       "    <tr>\n",
       "      <th>17281</th>\n",
       "      <td>ZYG11B</td>\n",
       "      <td>-0.094004</td>\n",
       "      <td>0.087456</td>\n",
       "      <td>2.296709</td>\n",
       "      <td>0.920752</td>\n",
       "    </tr>\n",
       "    <tr>\n",
       "      <th>17282</th>\n",
       "      <td>ZYX</td>\n",
       "      <td>-0.015553</td>\n",
       "      <td>0.045229</td>\n",
       "      <td>6.060374</td>\n",
       "      <td>1.142463</td>\n",
       "    </tr>\n",
       "    <tr>\n",
       "      <th>17283</th>\n",
       "      <td>ZZEF1</td>\n",
       "      <td>-0.065964</td>\n",
       "      <td>0.070773</td>\n",
       "      <td>3.277261</td>\n",
       "      <td>0.914023</td>\n",
       "    </tr>\n",
       "    <tr>\n",
       "      <th>17284</th>\n",
       "      <td>ZZZ3</td>\n",
       "      <td>-0.245272</td>\n",
       "      <td>0.253930</td>\n",
       "      <td>3.760730</td>\n",
       "      <td>0.910905</td>\n",
       "    </tr>\n",
       "  </tbody>\n",
       "</table>\n",
       "<p>17285 rows × 5 columns</p>\n",
       "</div>"
      ],
      "text/plain": [
       "          gene    effect  dependency  expression   gene_cn\n",
       "0         A1BG -0.015041    0.043599    0.590738  1.002046\n",
       "1         A1CF -0.068805    0.083945    1.262503  1.031954\n",
       "2          A2M  0.001877    0.035082    0.285868  1.075952\n",
       "3        A2ML1  0.034582    0.030788    0.309722  1.075789\n",
       "4      A3GALT2 -0.046617    0.062978    0.009425  0.912126\n",
       "...        ...       ...         ...         ...       ...\n",
       "17280   ZYG11A -0.020647    0.046334    0.178135  0.920793\n",
       "17281   ZYG11B -0.094004    0.087456    2.296709  0.920752\n",
       "17282      ZYX -0.015553    0.045229    6.060374  1.142463\n",
       "17283    ZZEF1 -0.065964    0.070773    3.277261  0.914023\n",
       "17284     ZZZ3 -0.245272    0.253930    3.760730  0.910905\n",
       "\n",
       "[17285 rows x 5 columns]"
      ]
     },
     "execution_count": 7,
     "metadata": {},
     "output_type": "execute_result"
    }
   ],
   "source": [
    "lineage_df_dict['colorectal']"
   ]
  },
  {
   "cell_type": "code",
   "execution_count": 8,
   "metadata": {},
   "outputs": [],
   "source": [
    "training_dfs = {}\n",
    "training_lineages = {\"kidney\" : \"kidney\", \n",
    "                     \"breast\" : \"breast\", \n",
    "                     \"leukemia\" : \"blood\", \n",
    "                     \"liver\" : \"liver\", \n",
    "                     \"bladder\" : \"urinary_tract\",\n",
    "                     \"colon\" : \"colorectal\", \n",
    "                     \"ovarian\" : \"ovary\", \n",
    "                     \"pancreatic\" : \"pancreas\"}\n",
    "for k, v in training_lineages.items():\n",
    "    df = pd.read_csv(f\"training_sets_genes/{k}_training_genes_set.csv\")\n",
    "    df = df.merge(lineage_df_dict[v], on=\"gene\", how='left').fillna(0)\n",
    "    lineage_df_dict[v] = pd.merge(lineage_df_dict[v], df, indicator=True, how='left', on=list(lineage_df_dict[v].columns)).query('_merge == \"left_only\"').drop('_merge', axis=1)\n",
    "    lineage_df_dict[v].reset_index(inplace=True)\n",
    "    training_dfs[k] = df"
   ]
  },
  {
   "cell_type": "markdown",
   "metadata": {},
   "source": [
    "## Principal Component Analysis (PCA)"
   ]
  },
  {
   "cell_type": "code",
   "execution_count": null,
   "metadata": {},
   "outputs": [],
   "source": []
  },
  {
   "cell_type": "markdown",
   "metadata": {},
   "source": [
    "## Random Forest"
   ]
  },
  {
   "cell_type": "code",
   "execution_count": null,
   "metadata": {},
   "outputs": [],
   "source": []
  },
  {
   "cell_type": "markdown",
   "metadata": {},
   "source": [
    "## Neural Network"
   ]
  },
  {
   "cell_type": "code",
   "execution_count": null,
   "metadata": {},
   "outputs": [],
   "source": []
  },
  {
   "cell_type": "markdown",
   "metadata": {},
   "source": [
    "## Support Vector Machine (SVM)"
   ]
  },
  {
   "cell_type": "code",
   "execution_count": null,
   "metadata": {},
   "outputs": [],
   "source": []
  },
  {
   "cell_type": "markdown",
   "metadata": {},
   "source": [
    "## Logistic Regression"
   ]
  },
  {
   "cell_type": "code",
   "execution_count": null,
   "metadata": {},
   "outputs": [],
   "source": []
  }
 ],
 "metadata": {
  "kernelspec": {
   "display_name": "Python 3",
   "language": "python",
   "name": "python3"
  },
  "language_info": {
   "codemirror_mode": {
    "name": "ipython",
    "version": 3
   },
   "file_extension": ".py",
   "mimetype": "text/x-python",
   "name": "python",
   "nbconvert_exporter": "python",
   "pygments_lexer": "ipython3",
   "version": "3.11.9"
  }
 },
 "nbformat": 4,
 "nbformat_minor": 2
}
