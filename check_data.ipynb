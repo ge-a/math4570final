{
 "cells": [
  {
   "cell_type": "code",
   "execution_count": 18,
   "metadata": {},
   "outputs": [],
   "source": [
    "import pandas as pd\n",
    "import numpy as np\n",
    "from sklearn.ensemble import RandomForestClassifier\n",
    "from sklearn import svm\n",
    "from sklearn.decomposition import PCA\n",
    "from sklearn.model_selection import train_test_split\n",
    "import os"
   ]
  },
  {
   "cell_type": "code",
   "execution_count": 19,
   "metadata": {},
   "outputs": [],
   "source": [
    "# List of all the lineages we will be making dataframes for - some of the DFs don't have a col named depmapid but have depmapids, will require some cleaning\n",
    "lineages = [\"kidney\", \"breast\", \"blood\", \"liver\", \"urinary_tract\", \"colorectal\", \"ovary\", \"pancreas\"]\n",
    "lineage_df_dict = {}"
   ]
  },
  {
   "cell_type": "code",
   "execution_count": 20,
   "metadata": {},
   "outputs": [],
   "source": [
    "# List of all the feature dataframes we are going to read into the lineage dataframes\n",
    "features = [\"effect\", \"dependency\", \"expression\", \"gene_cn\"]\n",
    "feature_df_dict = {}"
   ]
  },
  {
   "cell_type": "code",
   "execution_count": 21,
   "metadata": {},
   "outputs": [],
   "source": [
    "sample_info_df = pd.read_csv('data/sample_info.csv')"
   ]
  },
  {
   "cell_type": "code",
   "execution_count": 22,
   "metadata": {},
   "outputs": [],
   "source": [
    "folder_path = \"data/\"\n",
    "\n",
    "for file_name in os.listdir(folder_path):\n",
    "    for feature in features:\n",
    "        if file_name.endswith('.csv') and feature in file_name:\n",
    "            file_path = os.path.join(folder_path, file_name)\n",
    "            feature_df_dict[feature] = pd.read_csv(file_path)\n",
    "            feature_df_dict[feature].columns = [column.split(' ')[0] for column in feature_df_dict[feature].columns]\n",
    "            feature_df_dict[feature].rename(columns={feature_df_dict[feature].columns[0]: \"DepMap_ID\"}, inplace=True)\n",
    "            feature_df_dict[feature] = pd.merge(feature_df_dict[feature], sample_info_df[['DepMap_ID', 'lineage']], on='DepMap_ID', how='left')\n",
    "            feature_df_dict[feature].drop(\"DepMap_ID\", axis=1, inplace=True)\n",
    "            feature_df_dict[feature] = feature_df_dict[feature].pivot_table(index='lineage', aggfunc='mean')"
   ]
  },
  {
   "cell_type": "code",
   "execution_count": 23,
   "metadata": {},
   "outputs": [],
   "source": [
    "for feature in features:\n",
    "    for lineage in lineages:\n",
    "        temp_df = feature_df_dict[feature].loc[feature_df_dict[feature].index == lineage].transpose()\n",
    "        temp_df.index.name = 'gene'\n",
    "        if lineage in lineage_df_dict:\n",
    "            temp_df.rename(columns={lineage : feature}, inplace=True)\n",
    "            lineage_df_dict[lineage] = pd.merge(lineage_df_dict[lineage], temp_df, on=\"gene\", how=\"outer\").dropna()\n",
    "        else:\n",
    "            lineage_df_dict[lineage] = pd.DataFrame({feature: temp_df[lineage]}, index=temp_df.index)\n",
    "            lineage_df_dict[lineage].index.name = 'gene'\n",
    "            lineage_df_dict[lineage].reset_index(inplace=True)"
   ]
  },
  {
   "cell_type": "code",
   "execution_count": 24,
   "metadata": {},
   "outputs": [
    {
     "data": {
      "text/html": [
       "<div>\n",
       "<style scoped>\n",
       "    .dataframe tbody tr th:only-of-type {\n",
       "        vertical-align: middle;\n",
       "    }\n",
       "\n",
       "    .dataframe tbody tr th {\n",
       "        vertical-align: top;\n",
       "    }\n",
       "\n",
       "    .dataframe thead th {\n",
       "        text-align: right;\n",
       "    }\n",
       "</style>\n",
       "<table border=\"1\" class=\"dataframe\">\n",
       "  <thead>\n",
       "    <tr style=\"text-align: right;\">\n",
       "      <th></th>\n",
       "      <th>gene</th>\n",
       "      <th>effect</th>\n",
       "      <th>dependency</th>\n",
       "      <th>expression</th>\n",
       "      <th>gene_cn</th>\n",
       "    </tr>\n",
       "  </thead>\n",
       "  <tbody>\n",
       "    <tr>\n",
       "      <th>0</th>\n",
       "      <td>A1BG</td>\n",
       "      <td>-0.015041</td>\n",
       "      <td>0.043599</td>\n",
       "      <td>0.590738</td>\n",
       "      <td>1.020882</td>\n",
       "    </tr>\n",
       "    <tr>\n",
       "      <th>2</th>\n",
       "      <td>A1CF</td>\n",
       "      <td>-0.068805</td>\n",
       "      <td>0.083945</td>\n",
       "      <td>1.262503</td>\n",
       "      <td>1.019519</td>\n",
       "    </tr>\n",
       "    <tr>\n",
       "      <th>3</th>\n",
       "      <td>A2M</td>\n",
       "      <td>0.001877</td>\n",
       "      <td>0.035082</td>\n",
       "      <td>0.285868</td>\n",
       "      <td>1.105415</td>\n",
       "    </tr>\n",
       "    <tr>\n",
       "      <th>5</th>\n",
       "      <td>A2ML1</td>\n",
       "      <td>0.034582</td>\n",
       "      <td>0.030788</td>\n",
       "      <td>0.309722</td>\n",
       "      <td>1.105017</td>\n",
       "    </tr>\n",
       "    <tr>\n",
       "      <th>9</th>\n",
       "      <td>A3GALT2</td>\n",
       "      <td>-0.046617</td>\n",
       "      <td>0.062978</td>\n",
       "      <td>0.009425</td>\n",
       "      <td>0.895263</td>\n",
       "    </tr>\n",
       "    <tr>\n",
       "      <th>...</th>\n",
       "      <td>...</td>\n",
       "      <td>...</td>\n",
       "      <td>...</td>\n",
       "      <td>...</td>\n",
       "      <td>...</td>\n",
       "    </tr>\n",
       "    <tr>\n",
       "      <th>59260</th>\n",
       "      <td>ZYG11A</td>\n",
       "      <td>-0.020647</td>\n",
       "      <td>0.046334</td>\n",
       "      <td>0.178135</td>\n",
       "      <td>0.892073</td>\n",
       "    </tr>\n",
       "    <tr>\n",
       "      <th>59262</th>\n",
       "      <td>ZYG11B</td>\n",
       "      <td>-0.094004</td>\n",
       "      <td>0.087456</td>\n",
       "      <td>2.296709</td>\n",
       "      <td>0.892073</td>\n",
       "    </tr>\n",
       "    <tr>\n",
       "      <th>59263</th>\n",
       "      <td>ZYX</td>\n",
       "      <td>-0.015553</td>\n",
       "      <td>0.045229</td>\n",
       "      <td>6.060374</td>\n",
       "      <td>1.218197</td>\n",
       "    </tr>\n",
       "    <tr>\n",
       "      <th>59265</th>\n",
       "      <td>ZZEF1</td>\n",
       "      <td>-0.065964</td>\n",
       "      <td>0.070773</td>\n",
       "      <td>3.277261</td>\n",
       "      <td>0.920887</td>\n",
       "    </tr>\n",
       "    <tr>\n",
       "      <th>59266</th>\n",
       "      <td>ZZZ3</td>\n",
       "      <td>-0.245272</td>\n",
       "      <td>0.253930</td>\n",
       "      <td>3.760730</td>\n",
       "      <td>0.877454</td>\n",
       "    </tr>\n",
       "  </tbody>\n",
       "</table>\n",
       "<p>17285 rows × 5 columns</p>\n",
       "</div>"
      ],
      "text/plain": [
       "          gene    effect  dependency  expression   gene_cn\n",
       "0         A1BG -0.015041    0.043599    0.590738  1.020882\n",
       "2         A1CF -0.068805    0.083945    1.262503  1.019519\n",
       "3          A2M  0.001877    0.035082    0.285868  1.105415\n",
       "5        A2ML1  0.034582    0.030788    0.309722  1.105017\n",
       "9      A3GALT2 -0.046617    0.062978    0.009425  0.895263\n",
       "...        ...       ...         ...         ...       ...\n",
       "59260   ZYG11A -0.020647    0.046334    0.178135  0.892073\n",
       "59262   ZYG11B -0.094004    0.087456    2.296709  0.892073\n",
       "59263      ZYX -0.015553    0.045229    6.060374  1.218197\n",
       "59265    ZZEF1 -0.065964    0.070773    3.277261  0.920887\n",
       "59266     ZZZ3 -0.245272    0.253930    3.760730  0.877454\n",
       "\n",
       "[17285 rows x 5 columns]"
      ]
     },
     "execution_count": 24,
     "metadata": {},
     "output_type": "execute_result"
    }
   ],
   "source": [
    "lineage_df_dict['colorectal']"
   ]
  },
  {
   "cell_type": "code",
   "execution_count": 25,
   "metadata": {},
   "outputs": [],
   "source": [
    "training_dfs = {}\n",
    "training_lineages = {\"kidney\" : \"kidney\", \n",
    "                     \"breast\" : \"breast\", \n",
    "                     \"leukemia\" : \"blood\", \n",
    "                     \"liver\" : \"liver\", \n",
    "                     \"bladder\" : \"urinary_tract\",\n",
    "                     \"colon\" : \"colorectal\", \n",
    "                     \"ovarian\" : \"ovary\", \n",
    "                     \"pancreatic\" : \"pancreas\"}\n",
    "for k, v in training_lineages.items():\n",
    "    df = pd.read_csv(f\"training_sets_genes/{k}_training_genes_set.csv\")\n",
    "    df = df.merge(lineage_df_dict[v], on=\"gene\", how='left').fillna(0)\n",
    "    lineage_df_dict[v] = pd.merge(lineage_df_dict[v], df, indicator=True, how='left', on=list(lineage_df_dict[v].columns)).query('_merge == \"left_only\"').drop('_merge', axis=1)\n",
    "    training_dfs[k] = df"
   ]
  },
  {
   "cell_type": "markdown",
   "metadata": {},
   "source": [
    "## Principal Component Analysis (PCA)"
   ]
  },
  {
   "cell_type": "code",
   "execution_count": null,
   "metadata": {},
   "outputs": [],
   "source": []
  },
  {
   "cell_type": "markdown",
   "metadata": {},
   "source": [
    "## Random Forest"
   ]
  },
  {
   "cell_type": "code",
   "execution_count": null,
   "metadata": {},
   "outputs": [],
   "source": []
  },
  {
   "cell_type": "markdown",
   "metadata": {},
   "source": [
    "## Neural Network"
   ]
  },
  {
   "cell_type": "code",
   "execution_count": null,
   "metadata": {},
   "outputs": [],
   "source": []
  },
  {
   "cell_type": "markdown",
   "metadata": {},
   "source": [
    "## Support Vector Machine (SVM)"
   ]
  },
  {
   "cell_type": "code",
   "execution_count": null,
   "metadata": {},
   "outputs": [],
   "source": []
  },
  {
   "cell_type": "markdown",
   "metadata": {},
   "source": [
    "## Logistic Regression"
   ]
  },
  {
   "cell_type": "code",
   "execution_count": 26,
   "metadata": {},
   "outputs": [],
   "source": [
    "from sklearn.model_selection import train_test_split\n",
    "from sklearn.linear_model import LogisticRegression\n",
    "from sklearn.metrics import auc, accuracy_score, roc_curve, precision_score, recall_score, f1_score"
   ]
  },
  {
   "cell_type": "code",
   "execution_count": 88,
   "metadata": {},
   "outputs": [],
   "source": [
    "def trainLRmodel(X, Y):\n",
    "    # Get the training and test data\n",
    "    X_train, X_test, y_train, y_test = train_test_split(X, Y, test_size=0.3)\n",
    "\n",
    "    # Fit the model\n",
    "    model = LogisticRegression().fit(X_train, y_train)\n",
    "\n",
    "    y_pred = model.predict(X_test)\n",
    "    y_pred_rt = model.predict_proba(X_test)[:, 1]\n",
    "\n",
    "    accuracy = str(accuracy_score(y_test, y_pred))\n",
    "    fpr, tpr, thresholds = roc_curve(y_test, y_pred_rt, pos_label=1)\n",
    "    auc_value = str(auc(fpr, tpr))\n",
    "    precision = str(precision_score(y_test, y_pred, pos_label='positive'))\n",
    "    recall = str(recall_score(y_test, y_pred, pos_label='positive'))\n",
    "    f1score = str(f1_score(y_test, y_pred, average=\"weighted\"))\n",
    "\n",
    "    # print(f\"Lineage: {lineage}\\n\\n\")\n",
    "    # print(f\"Accuracy: {accuracy}\\n\\n\")\n",
    "    # print(f\"Y Test: {y_test}\\n\\n\")\n",
    "    # print(f\"Y Pred: {y_pred}\\n\\n\")\n",
    "    # print(f\"Y Pred RT: {y_pred_rt}\\n\\n\")\n",
    "    # print(f\"Accuracy: {accuracy}\\n\\n\")\n",
    "    # print(f\"AUC: {auc_value}\\n\\n\")\n",
    "    # print(f\"Precision: {precision}\\n\\n\")\n",
    "    # print(f\"Recall: {recall}\\n\\n\")\n",
    "    # print(f\"F1 Score: {f1score}\\n\\n\")\n",
    "\n",
    "    return [accuracy, y_test, y_pred, y_pred_rt, model, auc_value, precision, recall, f1score]\n"
   ]
  },
  {
   "cell_type": "code",
   "execution_count": 81,
   "metadata": {},
   "outputs": [
    {
     "data": {
      "text/html": [
       "<div>\n",
       "<style scoped>\n",
       "    .dataframe tbody tr th:only-of-type {\n",
       "        vertical-align: middle;\n",
       "    }\n",
       "\n",
       "    .dataframe tbody tr th {\n",
       "        vertical-align: top;\n",
       "    }\n",
       "\n",
       "    .dataframe thead th {\n",
       "        text-align: right;\n",
       "    }\n",
       "</style>\n",
       "<table border=\"1\" class=\"dataframe\">\n",
       "  <thead>\n",
       "    <tr style=\"text-align: right;\">\n",
       "      <th></th>\n",
       "      <th>gene</th>\n",
       "      <th>label</th>\n",
       "      <th>effect</th>\n",
       "      <th>dependency</th>\n",
       "      <th>expression</th>\n",
       "      <th>gene_cn</th>\n",
       "    </tr>\n",
       "  </thead>\n",
       "  <tbody>\n",
       "    <tr>\n",
       "      <th>0</th>\n",
       "      <td>PLK4</td>\n",
       "      <td>positive</td>\n",
       "      <td>-0.984314</td>\n",
       "      <td>0.863918</td>\n",
       "      <td>3.640710</td>\n",
       "      <td>0.860872</td>\n",
       "    </tr>\n",
       "    <tr>\n",
       "      <th>1</th>\n",
       "      <td>CTLA4</td>\n",
       "      <td>positive</td>\n",
       "      <td>0.034809</td>\n",
       "      <td>0.029048</td>\n",
       "      <td>0.069394</td>\n",
       "      <td>1.026365</td>\n",
       "    </tr>\n",
       "    <tr>\n",
       "      <th>2</th>\n",
       "      <td>FLT3</td>\n",
       "      <td>positive</td>\n",
       "      <td>-0.081378</td>\n",
       "      <td>0.075911</td>\n",
       "      <td>0.310125</td>\n",
       "      <td>0.893372</td>\n",
       "    </tr>\n",
       "    <tr>\n",
       "      <th>3</th>\n",
       "      <td>LCK</td>\n",
       "      <td>positive</td>\n",
       "      <td>0.038377</td>\n",
       "      <td>0.035519</td>\n",
       "      <td>0.153196</td>\n",
       "      <td>0.906288</td>\n",
       "    </tr>\n",
       "    <tr>\n",
       "      <th>4</th>\n",
       "      <td>FLT1</td>\n",
       "      <td>positive</td>\n",
       "      <td>0.043289</td>\n",
       "      <td>0.025756</td>\n",
       "      <td>0.050356</td>\n",
       "      <td>0.893385</td>\n",
       "    </tr>\n",
       "    <tr>\n",
       "      <th>...</th>\n",
       "      <td>...</td>\n",
       "      <td>...</td>\n",
       "      <td>...</td>\n",
       "      <td>...</td>\n",
       "      <td>...</td>\n",
       "      <td>...</td>\n",
       "    </tr>\n",
       "    <tr>\n",
       "      <th>219</th>\n",
       "      <td>EFNA3</td>\n",
       "      <td>negative</td>\n",
       "      <td>-0.191222</td>\n",
       "      <td>0.191477</td>\n",
       "      <td>2.003700</td>\n",
       "      <td>1.147023</td>\n",
       "    </tr>\n",
       "    <tr>\n",
       "      <th>220</th>\n",
       "      <td>HIST1H4L</td>\n",
       "      <td>negative</td>\n",
       "      <td>0.000000</td>\n",
       "      <td>0.000000</td>\n",
       "      <td>0.000000</td>\n",
       "      <td>0.000000</td>\n",
       "    </tr>\n",
       "    <tr>\n",
       "      <th>221</th>\n",
       "      <td>CRYGS</td>\n",
       "      <td>negative</td>\n",
       "      <td>-0.041804</td>\n",
       "      <td>0.051119</td>\n",
       "      <td>1.347271</td>\n",
       "      <td>1.095788</td>\n",
       "    </tr>\n",
       "    <tr>\n",
       "      <th>222</th>\n",
       "      <td>RAB10</td>\n",
       "      <td>negative</td>\n",
       "      <td>-0.432176</td>\n",
       "      <td>0.453347</td>\n",
       "      <td>6.329839</td>\n",
       "      <td>1.033599</td>\n",
       "    </tr>\n",
       "    <tr>\n",
       "      <th>223</th>\n",
       "      <td>C16orf90</td>\n",
       "      <td>negative</td>\n",
       "      <td>-0.255783</td>\n",
       "      <td>0.263710</td>\n",
       "      <td>0.006333</td>\n",
       "      <td>1.087997</td>\n",
       "    </tr>\n",
       "  </tbody>\n",
       "</table>\n",
       "<p>224 rows × 6 columns</p>\n",
       "</div>"
      ],
      "text/plain": [
       "         gene     label    effect  dependency  expression   gene_cn\n",
       "0        PLK4  positive -0.984314    0.863918    3.640710  0.860872\n",
       "1       CTLA4  positive  0.034809    0.029048    0.069394  1.026365\n",
       "2        FLT3  positive -0.081378    0.075911    0.310125  0.893372\n",
       "3         LCK  positive  0.038377    0.035519    0.153196  0.906288\n",
       "4        FLT1  positive  0.043289    0.025756    0.050356  0.893385\n",
       "..        ...       ...       ...         ...         ...       ...\n",
       "219     EFNA3  negative -0.191222    0.191477    2.003700  1.147023\n",
       "220  HIST1H4L  negative  0.000000    0.000000    0.000000  0.000000\n",
       "221     CRYGS  negative -0.041804    0.051119    1.347271  1.095788\n",
       "222     RAB10  negative -0.432176    0.453347    6.329839  1.033599\n",
       "223  C16orf90  negative -0.255783    0.263710    0.006333  1.087997\n",
       "\n",
       "[224 rows x 6 columns]"
      ]
     },
     "execution_count": 81,
     "metadata": {},
     "output_type": "execute_result"
    }
   ],
   "source": [
    "training_dfs['kidney']"
   ]
  },
  {
   "cell_type": "code",
   "execution_count": 73,
   "metadata": {},
   "outputs": [
    {
     "data": {
      "text/plain": [
       "dict_keys(['kidney', 'breast', 'leukemia', 'liver', 'bladder', 'colon', 'ovarian', 'pancreatic'])"
      ]
     },
     "execution_count": 73,
     "metadata": {},
     "output_type": "execute_result"
    }
   ],
   "source": [
    "import matplotlib.pyplot as plt\n",
    "training_dfs.keys()"
   ]
  },
  {
   "cell_type": "code",
   "execution_count": 90,
   "metadata": {},
   "outputs": [
    {
     "name": "stderr",
     "output_type": "stream",
     "text": [
      "/opt/homebrew/lib/python3.11/site-packages/sklearn/metrics/_ranking.py:1146: UndefinedMetricWarning: No positive samples in y_true, true positive value should be meaningless\n",
      "  warnings.warn(\n",
      "/opt/homebrew/lib/python3.11/site-packages/sklearn/metrics/_classification.py:1509: UndefinedMetricWarning: Precision is ill-defined and being set to 0.0 due to no predicted samples. Use `zero_division` parameter to control this behavior.\n",
      "  _warn_prf(average, modifier, f\"{metric.capitalize()} is\", len(result))\n",
      "/opt/homebrew/lib/python3.11/site-packages/sklearn/metrics/_ranking.py:1146: UndefinedMetricWarning: No positive samples in y_true, true positive value should be meaningless\n",
      "  warnings.warn(\n",
      "/opt/homebrew/lib/python3.11/site-packages/sklearn/metrics/_classification.py:1509: UndefinedMetricWarning: Precision is ill-defined and being set to 0.0 due to no predicted samples. Use `zero_division` parameter to control this behavior.\n",
      "  _warn_prf(average, modifier, f\"{metric.capitalize()} is\", len(result))\n",
      "/opt/homebrew/lib/python3.11/site-packages/sklearn/metrics/_ranking.py:1146: UndefinedMetricWarning: No positive samples in y_true, true positive value should be meaningless\n",
      "  warnings.warn(\n",
      "/opt/homebrew/lib/python3.11/site-packages/sklearn/metrics/_classification.py:1509: UndefinedMetricWarning: Precision is ill-defined and being set to 0.0 due to no predicted samples. Use `zero_division` parameter to control this behavior.\n",
      "  _warn_prf(average, modifier, f\"{metric.capitalize()} is\", len(result))\n",
      "/opt/homebrew/lib/python3.11/site-packages/sklearn/metrics/_ranking.py:1146: UndefinedMetricWarning: No positive samples in y_true, true positive value should be meaningless\n",
      "  warnings.warn(\n",
      "/opt/homebrew/lib/python3.11/site-packages/sklearn/metrics/_classification.py:1509: UndefinedMetricWarning: Precision is ill-defined and being set to 0.0 due to no predicted samples. Use `zero_division` parameter to control this behavior.\n",
      "  _warn_prf(average, modifier, f\"{metric.capitalize()} is\", len(result))\n",
      "/opt/homebrew/lib/python3.11/site-packages/sklearn/metrics/_ranking.py:1146: UndefinedMetricWarning: No positive samples in y_true, true positive value should be meaningless\n",
      "  warnings.warn(\n",
      "/opt/homebrew/lib/python3.11/site-packages/sklearn/metrics/_classification.py:1509: UndefinedMetricWarning: Precision is ill-defined and being set to 0.0 due to no predicted samples. Use `zero_division` parameter to control this behavior.\n",
      "  _warn_prf(average, modifier, f\"{metric.capitalize()} is\", len(result))\n",
      "/opt/homebrew/lib/python3.11/site-packages/sklearn/metrics/_ranking.py:1146: UndefinedMetricWarning: No positive samples in y_true, true positive value should be meaningless\n",
      "  warnings.warn(\n",
      "/opt/homebrew/lib/python3.11/site-packages/sklearn/metrics/_classification.py:1509: UndefinedMetricWarning: Precision is ill-defined and being set to 0.0 due to no predicted samples. Use `zero_division` parameter to control this behavior.\n",
      "  _warn_prf(average, modifier, f\"{metric.capitalize()} is\", len(result))\n",
      "/opt/homebrew/lib/python3.11/site-packages/sklearn/metrics/_ranking.py:1146: UndefinedMetricWarning: No positive samples in y_true, true positive value should be meaningless\n",
      "  warnings.warn(\n",
      "/opt/homebrew/lib/python3.11/site-packages/sklearn/metrics/_ranking.py:1146: UndefinedMetricWarning: No positive samples in y_true, true positive value should be meaningless\n",
      "  warnings.warn(\n",
      "/opt/homebrew/lib/python3.11/site-packages/sklearn/metrics/_classification.py:1509: UndefinedMetricWarning: Precision is ill-defined and being set to 0.0 due to no predicted samples. Use `zero_division` parameter to control this behavior.\n",
      "  _warn_prf(average, modifier, f\"{metric.capitalize()} is\", len(result))\n"
     ]
    },
    {
     "data": {
      "image/png": "[encoded data removed]",
      "text/plain": [
       "<Figure size 1000x500 with 1 Axes>"
      ]
     },
     "metadata": {},
     "output_type": "display_data"
    }
   ],
   "source": [
    "fig = plt.figure(figsize=(10, 5))\n",
    "for i in range(len(training_dfs)):\n",
    "    lineage = list(training_dfs.keys())[i]\n",
    "    X = training_dfs[lineage].drop(['gene', 'label'], axis=1)\n",
    "    Y = training_dfs[lineage]['label']\n",
    "    accuracy, y_test, y_pred, y_pred_rt, model, auc_value, precision, recall, f1score  = trainLRmodel(X, Y)\n",
    "    rounded_accuracy = round(float(accuracy), 3)\n",
    "    # Assuming you have a dictionary 'lineage_df_dict' containing lineages as keys and dataframes as values\n",
    "\n",
    "    # Create a list of colors for each lineage\n",
    "    colors = ['red', 'blue', 'green', 'orange', 'purple', 'yellow', 'cyan', 'magenta']\n",
    "\n",
    "    # Plot a line graph for each lineage\n",
    "    plt.plot(y_pred_rt, color=colors[i], label=lineage)\n",
    "\n",
    "# Set the x-axis label\n",
    "plt.xlabel('Index')\n",
    "\n",
    "# Set the y-axis label\n",
    "plt.ylabel('Gene CN')\n",
    "\n",
    "# Set the title of the graph\n",
    "plt.title('Line Graph for Each Lineage')\n",
    "\n",
    "# Add a legend\n",
    "plt.legend()\n",
    "\n",
    "# Show the plot\n",
    "plt.show()\n"
   ]
  },
  {
   "cell_type": "code",
   "execution_count": 36,
   "metadata": {},
   "outputs": [
    {
     "name": "stdout",
     "output_type": "stream",
     "text": [
      "0.8676470588235294\n"
     ]
    }
   ],
   "source": [
    "print(accuracy)\n"
   ]
  }
 ],
 "metadata": {
  "kernelspec": {
   "display_name": "Python 3",
   "language": "python",
   "name": "python3"
  },
  "language_info": {
   "codemirror_mode": {
    "name": "ipython",
    "version": 3
   },
   "file_extension": ".py",
   "mimetype": "text/x-python",
   "name": "python",
   "nbconvert_exporter": "python",
   "pygments_lexer": "ipython3",
   "version": "3.11.9"
  }
 },
 "nbformat": 4,
 "nbformat_minor": 2
}
